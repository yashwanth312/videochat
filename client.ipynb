{
 "cells": [
  {
   "cell_type": "code",
   "execution_count": 1,
   "metadata": {},
   "outputs": [],
   "source": [
    "#Importing the required Librarires\n",
    "import threading\n",
    "import cv2\n",
    "import socket\n",
    "import numpy as np"
   ]
  },
  {
   "cell_type": "code",
   "execution_count": 2,
   "metadata": {},
   "outputs": [],
   "source": [
    "#Creating the socket\n",
    "s = socket.socket(socket.AF_INET , socket.SOCK_STREAM)"
   ]
  },
  {
   "cell_type": "code",
   "execution_count": 3,
   "metadata": {},
   "outputs": [
    {
     "name": "stdout",
     "output_type": "stream",
     "text": [
      "Enter the IP of the friend : 192.168.0.5\n",
      "Enter the port of the program : 1234\n"
     ]
    },
    {
     "data": {
      "text/plain": [
       "9"
      ]
     },
     "execution_count": 3,
     "metadata": {},
     "output_type": "execute_result"
    }
   ],
   "source": [
    "#Connecting the server's port\n",
    "s.bind((\"192.168.0.5\",567))\n",
    "ip = input(\"Enter the IP of the friend : \")\n",
    "port = input(\"Enter the port of the program : \")\n",
    "s.connect((ip,int(port)))\n",
    "s.send(b\"connected\")"
   ]
  },
  {
   "cell_type": "code",
   "execution_count": 4,
   "metadata": {},
   "outputs": [],
   "source": [
    "#Function to send the video feed from client\n",
    "def send():\n",
    "    cam = cv2.VideoCapture(0) #Connects the primary webcam of the OS\n",
    "    while True : \n",
    "        status , pic = cam.read()\n",
    "        s.send(pic.tobytes())\n",
    "        if cv2.waitKey(10) == 13 :\n",
    "            break    "
   ]
  },
  {
   "cell_type": "code",
   "execution_count": 5,
   "metadata": {},
   "outputs": [],
   "source": [
    "#Function to recieve the video feed from the server and displaying it\n",
    "def receive():\n",
    "    while True : \n",
    "        data = s.recv(1000000)\n",
    "        cpic = np.frombuffer(data , dtype = np.uint8)\n",
    "        if len(cpic) == 921600 :\n",
    "            cv2.imshow(\"1's Video\" , cpic.reshape(480,640,3))\n",
    "        else :\n",
    "            pass\n",
    "        if cv2.waitKey(10) == 13 :\n",
    "            print(\"Connection Ended\")\n",
    "            break\n",
    "    cv2.destroyAllWindows()\n",
    "    "
   ]
  },
  {
   "cell_type": "code",
   "execution_count": 6,
   "metadata": {},
   "outputs": [],
   "source": [
    "#Creating the threads to send and recieve the video feed\n",
    "t1 = threading.Thread(target = send)\n",
    "t2 = threading.Thread(target = receive)"
   ]
  },
  {
   "cell_type": "code",
   "execution_count": 7,
   "metadata": {},
   "outputs": [
    {
     "name": "stdout",
     "output_type": "stream",
     "text": [
      "Connection Ended\n"
     ]
    }
   ],
   "source": [
    "#Starting the threads\n",
    "t1.start()\n",
    "t2.start()"
   ]
  },
  {
   "cell_type": "code",
   "execution_count": 8,
   "metadata": {},
   "outputs": [
    {
     "ename": "NameError",
     "evalue": "name 'cam' is not defined",
     "output_type": "error",
     "traceback": [
      "\u001b[1;31m---------------------------------------------------------------------------\u001b[0m",
      "\u001b[1;31mNameError\u001b[0m                                 Traceback (most recent call last)",
      "\u001b[1;32m<ipython-input-8-956091a0a570>\u001b[0m in \u001b[0;36m<module>\u001b[1;34m\u001b[0m\n\u001b[1;32m----> 1\u001b[1;33m \u001b[0mcam\u001b[0m\u001b[1;33m.\u001b[0m\u001b[0mrelease\u001b[0m\u001b[1;33m(\u001b[0m\u001b[1;33m)\u001b[0m\u001b[1;33m\u001b[0m\u001b[1;33m\u001b[0m\u001b[0m\n\u001b[0m",
      "\u001b[1;31mNameError\u001b[0m: name 'cam' is not defined"
     ]
    }
   ],
   "source": [
    "cam.release()"
   ]
  },
  {
   "cell_type": "code",
   "execution_count": null,
   "metadata": {},
   "outputs": [],
   "source": []
  }
 ],
 "metadata": {
  "kernelspec": {
   "display_name": "Python 3",
   "language": "python",
   "name": "python3"
  },
  "language_info": {
   "codemirror_mode": {
    "name": "ipython",
    "version": 3
   },
   "file_extension": ".py",
   "mimetype": "text/x-python",
   "name": "python",
   "nbconvert_exporter": "python",
   "pygments_lexer": "ipython3",
   "version": "3.7.6"
  }
 },
 "nbformat": 4,
 "nbformat_minor": 4
}
