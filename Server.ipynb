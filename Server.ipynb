{
 "cells": [
  {
   "cell_type": "code",
   "execution_count": 1,
   "metadata": {},
   "outputs": [],
   "source": [
    "#Importing the required Libraries\n",
    "import threading\n",
    "import cv2\n",
    "import socket\n",
    "import numpy as np"
   ]
  },
  {
   "cell_type": "code",
   "execution_count": 2,
   "metadata": {},
   "outputs": [
    {
     "name": "stdout",
     "output_type": "stream",
     "text": [
      "b'connected'\n"
     ]
    }
   ],
   "source": [
    "#Creating a socket and connecting to exposing the port to connect to Client\n",
    "s = socket.socket(socket.AF_INET , socket.SOCK_STREAM)\n",
    "s.bind((\"192.168.0.5\",1234))\n",
    "s.listen()\n",
    "c,addr = s.accept()\n",
    "data = c.recv(1024)\n",
    "print(data)"
   ]
  },
  {
   "cell_type": "code",
   "execution_count": 3,
   "metadata": {},
   "outputs": [],
   "source": [
    "#Function to send the video feed from server\n",
    "def send():\n",
    "    cam = cv2.VideoCapture(2) #Connects the secondary webcam of the OS\n",
    "    while True : \n",
    "        status , pic = cam.read()\n",
    "        c.send(pic.tobytes())\n",
    "        if cv2.waitKey(10) == 13 :\n",
    "            break"
   ]
  },
  {
   "cell_type": "code",
   "execution_count": 4,
   "metadata": {},
   "outputs": [],
   "source": [
    "#Function to recieve the video feed from the client and displaying it\n",
    "def receive():\n",
    "    while True : \n",
    "        data = c.recv(1000000)\n",
    "        cpic = np.frombuffer(data , dtype = np.uint8)\n",
    "        if len(cpic) == 921600 :\n",
    "            cv2.imshow(\"2's Video\" , cpic.reshape(480,640,3))\n",
    "        else :\n",
    "            pass\n",
    "        if cv2.waitKey(10) == 13 :\n",
    "            print(\"Connection Ended\")\n",
    "            break\n",
    "    cv2.destroyAllWindows()"
   ]
  },
  {
   "cell_type": "code",
   "execution_count": 5,
   "metadata": {},
   "outputs": [],
   "source": [
    "#Creating the threads to send and recieve the video feed\n",
    "t1 = threading.Thread(target = send)\n",
    "t2 = threading.Thread(target = receive)"
   ]
  },
  {
   "cell_type": "code",
   "execution_count": 6,
   "metadata": {},
   "outputs": [
    {
     "name": "stdout",
     "output_type": "stream",
     "text": [
      "Connection Ended\n"
     ]
    }
   ],
   "source": [
    "#Starting the threads\n",
    "t2.start()\n",
    "t1.start()"
   ]
  },
  {
   "cell_type": "code",
   "execution_count": 7,
   "metadata": {},
   "outputs": [
    {
     "ename": "NameError",
     "evalue": "name 'cam' is not defined",
     "output_type": "error",
     "traceback": [
      "\u001b[1;31m---------------------------------------------------------------------------\u001b[0m",
      "\u001b[1;31mNameError\u001b[0m                                 Traceback (most recent call last)",
      "\u001b[1;32m<ipython-input-7-956091a0a570>\u001b[0m in \u001b[0;36m<module>\u001b[1;34m\u001b[0m\n\u001b[1;32m----> 1\u001b[1;33m \u001b[0mcam\u001b[0m\u001b[1;33m.\u001b[0m\u001b[0mrelease\u001b[0m\u001b[1;33m(\u001b[0m\u001b[1;33m)\u001b[0m\u001b[1;33m\u001b[0m\u001b[1;33m\u001b[0m\u001b[0m\n\u001b[0m",
      "\u001b[1;31mNameError\u001b[0m: name 'cam' is not defined"
     ]
    }
   ],
   "source": [
    "cam.release()"
   ]
  },
  {
   "cell_type": "code",
   "execution_count": null,
   "metadata": {},
   "outputs": [],
   "source": []
  }
 ],
 "metadata": {
  "kernelspec": {
   "display_name": "Python 3",
   "language": "python",
   "name": "python3"
  },
  "language_info": {
   "codemirror_mode": {
    "name": "ipython",
    "version": 3
   },
   "file_extension": ".py",
   "mimetype": "text/x-python",
   "name": "python",
   "nbconvert_exporter": "python",
   "pygments_lexer": "ipython3",
   "version": "3.7.6"
  }
 },
 "nbformat": 4,
 "nbformat_minor": 4
}
